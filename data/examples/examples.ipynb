{
 "cells": [
  {
   "cell_type": "markdown",
   "metadata": {},
   "source": [
    "# 1. Chem"
   ]
  },
  {
   "cell_type": "code",
   "execution_count": 4,
   "metadata": {},
   "outputs": [],
   "source": [
    "import sys\n",
    "sys.path.append('../../')"
   ]
  },
  {
   "cell_type": "code",
   "execution_count": 6,
   "metadata": {},
   "outputs": [],
   "source": [
    "from pepkit.io import setup_logging, read_csv\n",
    "logger = setup_logging()\n",
    "df = read_csv('../data.csv')"
   ]
  },
  {
   "cell_type": "code",
   "execution_count": 7,
   "metadata": {},
   "outputs": [],
   "source": [
    "# or load from example\n",
    "from pepkit.examples import data\n",
    "df = data.example_df"
   ]
  },
  {
   "cell_type": "code",
   "execution_count": 8,
   "metadata": {},
   "outputs": [
    {
     "name": "stderr",
     "output_type": "stream",
     "text": [
      "2025-05-18 17:15:35 INFO     │ rdkit: Enabling RDKit 2025.03.2 jupyter extensions\n"
     ]
    }
   ],
   "source": [
    "from pepkit.chem import Standardizer\n",
    "\n",
    "std = Standardizer(remove_non_canonical=True, charge_by_pH=True, pH=7.4)\n",
    "result = std.data_process(df, fasta_key='peptide_sequence', n_jobs=4)"
   ]
  },
  {
   "cell_type": "code",
   "execution_count": 9,
   "metadata": {},
   "outputs": [
    {
     "name": "stderr",
     "output_type": "stream",
     "text": [
      "[Parallel(n_jobs=4)]: Using backend LokyBackend with 4 concurrent workers.\n",
      "[Parallel(n_jobs=4)]: Done  33 tasks      | elapsed:    2.9s\n",
      "[Parallel(n_jobs=4)]: Done 100 out of 100 | elapsed:    7.3s finished\n"
     ]
    }
   ],
   "source": [
    "from pepkit.chem import Descriptor\n",
    "\n",
    "des = Descriptor(engine='rdkit', fasta_key='peptide_sequence', id_key='id', smiles_key='smiles')\n",
    "des_result = des.calculate(result, n_jobs=4,  verbose=2)"
   ]
  },
  {
   "cell_type": "markdown",
   "metadata": {},
   "source": [
    "# 2. Metrics"
   ]
  },
  {
   "cell_type": "code",
   "execution_count": 10,
   "metadata": {},
   "outputs": [],
   "source": [
    "import pandas as pd\n",
    "import numpy as np\n",
    "\n",
    "y_true = np.array([\n",
    "    5.498509397602542,\n",
    "    5.4129302889144695,\n",
    "    5.249349691952619,\n",
    "    4.78976015801953,\n",
    "    4.20173265562076,\n",
    "])\n",
    "y_hat = np.array([7.467, 7.303, 7.369, 7.633, 7.52])\n",
    "\n",
    "df = pd.DataFrame({\n",
    "    \"y_true\": y_true,\n",
    "    \"y_pred\": y_hat\n",
    "})\n",
    "\n"
   ]
  },
  {
   "cell_type": "code",
   "execution_count": 11,
   "metadata": {},
   "outputs": [
    {
     "data": {
      "text/plain": [
       "{'PCC': np.float64(-0.6056253313530204),\n",
       " 'SCC': np.float64(-0.6),\n",
       " 'RMSE': np.float64(2.4913910636708234),\n",
       " 'MAE': 2.427943561578016,\n",
       " 'R2': -25.80083307853924}"
      ]
     },
     "execution_count": 11,
     "metadata": {},
     "output_type": "execute_result"
    }
   ],
   "source": [
    "from pepkit.metrics import compute_regression_metrics\n",
    "compute_regression_metrics(y_true, y_hat)"
   ]
  },
  {
   "cell_type": "code",
   "execution_count": 12,
   "metadata": {},
   "outputs": [
    {
     "data": {
      "text/plain": [
       "{'PCC': np.float64(-0.6056253313530203),\n",
       " 'SCC': np.float64(-0.6),\n",
       " 'RMSE': np.float64(0.6672365605751011),\n",
       " 'MAE': 0.6498042986752538,\n",
       " 'R2': -2.232619472407412}"
      ]
     },
     "execution_count": 12,
     "metadata": {},
     "output_type": "execute_result"
    }
   ],
   "source": [
    "from pepkit.metrics import compute_metrics_from_dataframe\n",
    "compute_metrics_from_dataframe(df, ground_truth_key='y_true', \n",
    "                               pred_key='y_pred', \n",
    "                               task='regression', \n",
    "                               normalize=True)"
   ]
  },
  {
   "cell_type": "markdown",
   "metadata": {},
   "source": [
    "# Dock"
   ]
  },
  {
   "cell_type": "code",
   "execution_count": null,
   "metadata": {},
   "outputs": [],
   "source": [
    "from pepkit.dock.rosetta.refinement_dock import refinement_multiple_dock\n",
    "from pepkit.examples import rosetta_data\n",
    "pdb_path = rosetta_data.get_rosetta_ex_path()\n",
    "\n",
    "refinement_multiple_dock(\n",
    "    path_to_main=\"/path/to/rosetta/main\",\n",
    "    path_to_db=\"/path/to/rosetta/main/database\",\n",
    "    pdb_dir=pdb_path,\n",
    "    prepack_out=\"data/rosetta_test/prepack\",\n",
    "    refinement_out=\"data/rosetta_test/refinement\",\n",
    "    nstruct=1,\n",
    ")"
   ]
  },
  {
   "cell_type": "code",
   "execution_count": 13,
   "metadata": {},
   "outputs": [
    {
     "data": {
      "text/html": [
       "<div>\n",
       "<style scoped>\n",
       "    .dataframe tbody tr th:only-of-type {\n",
       "        vertical-align: middle;\n",
       "    }\n",
       "\n",
       "    .dataframe tbody tr th {\n",
       "        vertical-align: top;\n",
       "    }\n",
       "\n",
       "    .dataframe thead th {\n",
       "        text-align: right;\n",
       "    }\n",
       "</style>\n",
       "<table border=\"1\" class=\"dataframe\">\n",
       "  <thead>\n",
       "    <tr style=\"text-align: right;\">\n",
       "      <th></th>\n",
       "      <th>id</th>\n",
       "      <th>description</th>\n",
       "      <th>total_score</th>\n",
       "      <th>I_bsa</th>\n",
       "      <th>I_hb</th>\n",
       "      <th>I_pack</th>\n",
       "      <th>I_sc</th>\n",
       "      <th>I_unsat</th>\n",
       "      <th>dslf_fa13</th>\n",
       "      <th>fa_atr</th>\n",
       "      <th>...</th>\n",
       "      <th>rmsBB_if</th>\n",
       "      <th>rmsCA</th>\n",
       "      <th>rmsCA_if</th>\n",
       "      <th>rmsSC_CAPRI_if</th>\n",
       "      <th>rmsSC_allIF</th>\n",
       "      <th>startRMSall</th>\n",
       "      <th>startRMSallif</th>\n",
       "      <th>startRMSbb</th>\n",
       "      <th>startRMSca</th>\n",
       "      <th>yhh_planarity</th>\n",
       "    </tr>\n",
       "  </thead>\n",
       "  <tbody>\n",
       "    <tr>\n",
       "      <th>0</th>\n",
       "      <td>complex_2</td>\n",
       "      <td>complex_2_0001_0001</td>\n",
       "      <td>-194.133</td>\n",
       "      <td>970.169</td>\n",
       "      <td>0.0</td>\n",
       "      <td>-0.072</td>\n",
       "      <td>-21.603</td>\n",
       "      <td>8.0</td>\n",
       "      <td>-9.763</td>\n",
       "      <td>-594.231</td>\n",
       "      <td>...</td>\n",
       "      <td>3.204</td>\n",
       "      <td>4.409</td>\n",
       "      <td>3.143</td>\n",
       "      <td>2.742</td>\n",
       "      <td>3.206</td>\n",
       "      <td>0.0</td>\n",
       "      <td>0.0</td>\n",
       "      <td>0.0</td>\n",
       "      <td>0.0</td>\n",
       "      <td>0.021</td>\n",
       "    </tr>\n",
       "    <tr>\n",
       "      <th>1</th>\n",
       "      <td>complex_1</td>\n",
       "      <td>complex_1_0001_0001</td>\n",
       "      <td>-185.422</td>\n",
       "      <td>491.090</td>\n",
       "      <td>2.0</td>\n",
       "      <td>-0.024</td>\n",
       "      <td>-9.169</td>\n",
       "      <td>5.0</td>\n",
       "      <td>-10.008</td>\n",
       "      <td>-545.430</td>\n",
       "      <td>...</td>\n",
       "      <td>1.757</td>\n",
       "      <td>3.266</td>\n",
       "      <td>1.629</td>\n",
       "      <td>2.741</td>\n",
       "      <td>2.720</td>\n",
       "      <td>0.0</td>\n",
       "      <td>0.0</td>\n",
       "      <td>0.0</td>\n",
       "      <td>0.0</td>\n",
       "      <td>0.021</td>\n",
       "    </tr>\n",
       "  </tbody>\n",
       "</table>\n",
       "<p>2 rows × 46 columns</p>\n",
       "</div>"
      ],
      "text/plain": [
       "          id          description  total_score    I_bsa  I_hb  I_pack    I_sc  \\\n",
       "0  complex_2  complex_2_0001_0001     -194.133  970.169   0.0  -0.072 -21.603   \n",
       "1  complex_1  complex_1_0001_0001     -185.422  491.090   2.0  -0.024  -9.169   \n",
       "\n",
       "   I_unsat  dslf_fa13   fa_atr  ...  rmsBB_if  rmsCA  rmsCA_if  \\\n",
       "0      8.0     -9.763 -594.231  ...     3.204  4.409     3.143   \n",
       "1      5.0    -10.008 -545.430  ...     1.757  3.266     1.629   \n",
       "\n",
       "   rmsSC_CAPRI_if  rmsSC_allIF  startRMSall  startRMSallif  startRMSbb  \\\n",
       "0           2.742        3.206          0.0            0.0         0.0   \n",
       "1           2.741        2.720          0.0            0.0         0.0   \n",
       "\n",
       "   startRMSca  yhh_planarity  \n",
       "0         0.0          0.021  \n",
       "1         0.0          0.021  \n",
       "\n",
       "[2 rows x 46 columns]"
      ]
     },
     "metadata": {},
     "output_type": "display_data"
    },
    {
     "name": "stdout",
     "output_type": "stream",
     "text": [
      "complex_2_0001_0001\n"
     ]
    }
   ],
   "source": [
    "from pepkit.dock.rosetta.score import extract_score, get_optimal_clx\n",
    "from pepkit.examples import rosetta_data\n",
    "refine_path = rosetta_data.get_refinement_path()\n",
    "\n",
    "score = extract_score(dirpath=refine_path)\n",
    "display(score)\n",
    "print(get_optimal_clx(score))"
   ]
  },
  {
   "cell_type": "code",
   "execution_count": null,
   "metadata": {},
   "outputs": [],
   "source": []
  }
 ],
 "metadata": {
  "kernelspec": {
   "display_name": "peputil",
   "language": "python",
   "name": "python3"
  },
  "language_info": {
   "codemirror_mode": {
    "name": "ipython",
    "version": 3
   },
   "file_extension": ".py",
   "mimetype": "text/x-python",
   "name": "python",
   "nbconvert_exporter": "python",
   "pygments_lexer": "ipython3",
   "version": "3.11.0"
  }
 },
 "nbformat": 4,
 "nbformat_minor": 2
}
